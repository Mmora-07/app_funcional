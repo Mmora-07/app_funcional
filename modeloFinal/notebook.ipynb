{
 "cells": [
  {
   "cell_type": "code",
   "execution_count": 1,
   "id": "901b489d",
   "metadata": {},
   "outputs": [
    {
     "name": "stdout",
     "output_type": "stream",
     "text": [
      "✔️ ¡Éxito! Modelo 'best_model_final.pth' cargado correctamente.\n",
      "\n",
      "--- Resultado de la Predicción de Ejemplo ---\n",
      "Probabilidad de incumplimiento: 39.42%\n"
     ]
    },
    {
     "name": "stderr",
     "output_type": "stream",
     "text": [
      "C:\\Users\\BRAYAN\\AppData\\Local\\Temp\\ipykernel_18180\\3504849935.py:54: FutureWarning: You are using `torch.load` with `weights_only=False` (the current default value), which uses the default pickle module implicitly. It is possible to construct malicious pickle data which will execute arbitrary code during unpickling (See https://github.com/pytorch/pytorch/blob/main/SECURITY.md#untrusted-models for more details). In a future release, the default value for `weights_only` will be flipped to `True`. This limits the functions that could be executed during unpickling. Arbitrary objects will no longer be allowed to be loaded via this mode unless they are explicitly allowlisted by the user via `torch.serialization.add_safe_globals`. We recommend you start setting `weights_only=True` for any use case where you don't have full control of the loaded file. Please open an issue on GitHub for any issues related to this experimental feature.\n",
      "  nn_model.load_state_dict(torch.load(model_weights_path, map_location=DEVICE))\n"
     ]
    }
   ],
   "source": [
    "# %% ===============================================================\n",
    "# EJEMPLO FINAL SÚPER SIMPLE PARA VERIFICAR EL MODELO\n",
    "# ===============================================================\n",
    "import torch\n",
    "import torch.nn as nn\n",
    "import json\n",
    "import numpy as np\n",
    "\n",
    "# --- 1. DEFINICIÓN DE LA ARQUITECTURA DEL MODELO ---\n",
    "# Usamos la definición correcta que coincide con tu modelo guardado.\n",
    "class RiskNN(nn.Module):\n",
    "    def __init__(self, num_features, cat_dims, emb_dims, hidden, dropout):\n",
    "        super().__init__()\n",
    "        self.emb = nn.ModuleList([\n",
    "            nn.Embedding(dim, emb) for dim, emb in zip(cat_dims, emb_dims)\n",
    "        ])\n",
    "        in_dim = num_features + sum(emb_dims)\n",
    "        layers = []\n",
    "        for h in hidden:\n",
    "            layers += [nn.Linear(in_dim, h),\n",
    "                       nn.BatchNorm1d(h),\n",
    "                       nn.GELU(),\n",
    "                       nn.Dropout(dropout)]\n",
    "            in_dim = h\n",
    "        layers.append(nn.Linear(in_dim, 1))\n",
    "        self.net = nn.Sequential(*layers)\n",
    "\n",
    "    def forward(self, x_num, x_cat):\n",
    "        emb = [m(x_cat[:, i]) for i, m in enumerate(self.emb)]\n",
    "        x   = torch.cat(emb + [x_num], dim=1)\n",
    "        return self.net(x).squeeze(1)\n",
    "\n",
    "\n",
    "# --- 2. CARGAR LA CONFIGURACIÓN Y LOS PESOS DEL MODELO ---\n",
    "DEVICE = torch.device(\"cpu\")\n",
    "model_weights_path = \"best_model_final.pth\"\n",
    "model_metadata_path = \"model_metadata.json\"\n",
    "\n",
    "try:\n",
    "    # Paso CLAVE: Leer los parámetros exactos desde el archivo de metadatos\n",
    "    with open(model_metadata_path, 'r') as f:\n",
    "        metadata = json.load(f)\n",
    "\n",
    "    # Instanciar el modelo usando los parámetros del archivo\n",
    "    nn_model = RiskNN(\n",
    "        num_features=metadata['num_features'],\n",
    "        cat_dims=metadata['cat_dims'],\n",
    "        emb_dims=metadata['emb_dims'],\n",
    "        hidden=metadata['hidden_layers'],\n",
    "        dropout=metadata['dropout'],\n",
    "    ).to(DEVICE)\n",
    "\n",
    "    # Cargar los pesos entrenados\n",
    "    nn_model.load_state_dict(torch.load(model_weights_path, map_location=DEVICE))\n",
    "    nn_model.eval() # Poner el modelo en modo de evaluación\n",
    "\n",
    "    print(f\"✔️ ¡Éxito! Modelo '{model_weights_path}' cargado correctamente.\")\n",
    "\n",
    "except Exception as e:\n",
    "    print(f\"❌ Ocurrió un error: {e}\")\n",
    "    print(\"Asegúrate de que los archivos 'best_model_final.pth' y 'model_metadata.json' están en la misma carpeta que el notebook.\")\n",
    "\n",
    "\n",
    "# --- 3. CREAR UN CLIENTE DE EJEMPLO Y HACER UNA PREDICCIÓN ---\n",
    "# (Esta parte es solo para demostrar que el modelo funciona)\n",
    "\n",
    "# a) Variables numéricas de ejemplo (8 valores normalizados)\n",
    "sample_numerical = torch.tensor([[-0.5, 0.2, -0.1, 0.5, -0.3, 0.1, 0.8, -1.0]], dtype=torch.float32).to(DEVICE)\n",
    "\n",
    "# b) Variables categóricas de ejemplo (6 valores de índice)\n",
    "#    IMPORTANTE: Los índices deben ser menores que el tamaño de su embedding correspondiente.\n",
    "#    Por ejemplo, el primer índice (para emp_length) debe ser < 6.\n",
    "sample_categorical = torch.tensor([[1, 3, 1, 0, 1, 0]], dtype=torch.long).to(DEVICE)\n",
    "\n",
    "# c) Realizar la predicción\n",
    "with torch.no_grad():\n",
    "    logits = nn_model(sample_numerical, sample_categorical)\n",
    "    probability = torch.sigmoid(logits).item()\n",
    "\n",
    "\n",
    "# --- 4. MOSTRAR EL RESULTADO ---\n",
    "print(\"\\n--- Resultado de la Predicción de Ejemplo ---\")\n",
    "print(f\"Probabilidad de incumplimiento: {probability*100:.2f}%\")"
   ]
  }
 ],
 "metadata": {
  "kernelspec": {
   "display_name": "Python 3",
   "language": "python",
   "name": "python3"
  },
  "language_info": {
   "codemirror_mode": {
    "name": "ipython",
    "version": 3
   },
   "file_extension": ".py",
   "mimetype": "text/x-python",
   "name": "python",
   "nbconvert_exporter": "python",
   "pygments_lexer": "ipython3",
   "version": "3.10.11"
  }
 },
 "nbformat": 4,
 "nbformat_minor": 5
}
